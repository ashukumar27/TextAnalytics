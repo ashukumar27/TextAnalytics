{
 "cells": [
  {
   "cell_type": "markdown",
   "metadata": {},
   "source": [
    "#### TF-IDF and Count Vectorizer"
   ]
  },
  {
   "cell_type": "code",
   "execution_count": 23,
   "metadata": {},
   "outputs": [],
   "source": [
    "#tf(t, d) = # of times term t appears in document d\n",
    "#idf(t, D) = log (total number of documents / total # of documents in which term t appears)\n",
    "#tf-idf(t, d, D) = tf(t, d) * idf(t, D)"
   ]
  },
  {
   "cell_type": "code",
   "execution_count": 29,
   "metadata": {
    "collapsed": true
   },
   "outputs": [],
   "source": [
    "from sklearn.feature_extraction.text import TfidfVectorizer, CountVectorizer\n"
   ]
  },
  {
   "cell_type": "code",
   "execution_count": 25,
   "metadata": {
    "collapsed": true
   },
   "outputs": [],
   "source": [
    "vectorizer = TfidfVectorizer()\n",
    "\n",
    "corpus = [\n",
    " 'the brown fox jumped over the brown dog',\n",
    " 'the quick brown fox',\n",
    " 'the brown brown dog',\n",
    " 'the fox ate the dog'\n",
    "]"
   ]
  },
  {
   "cell_type": "code",
   "execution_count": 27,
   "metadata": {},
   "outputs": [
    {
     "name": "stdout",
     "output_type": "stream",
     "text": [
      "['ate', 'brown', 'dog', 'fox', 'jumped', 'over', 'quick', 'the']\n"
     ]
    }
   ],
   "source": [
    "\n",
    "X = vectorizer.fit_transform(corpus)\n",
    "\n",
    "print(vectorizer.get_feature_names())\n"
   ]
  },
  {
   "cell_type": "code",
   "execution_count": 28,
   "metadata": {},
   "outputs": [
    {
     "name": "stdout",
     "output_type": "stream",
     "text": [
      "[[ 0.          0.54267123  0.27133562  0.27133562  0.42509967  0.42509967\n",
      "   0.          0.44366929]\n",
      " [ 0.          0.44181486  0.          0.44181486  0.          0.\n",
      "   0.69218835  0.3612126 ]\n",
      " [ 0.          0.84003859  0.4200193   0.          0.          0.          0.\n",
      "   0.3433933 ]\n",
      " [ 0.58680608  0.          0.37455072  0.37455072  0.          0.          0.\n",
      "   0.61243951]]\n"
     ]
    }
   ],
   "source": [
    "print(X.toarray())"
   ]
  },
  {
   "cell_type": "code",
   "execution_count": 30,
   "metadata": {
    "collapsed": true
   },
   "outputs": [],
   "source": [
    "vectorizer = CountVectorizer()\n",
    "\n",
    "corpus = [\n",
    " 'the brown fox jumped over the brown dog',\n",
    " 'the quick brown fox',\n",
    " 'the brown brown dog',\n",
    " 'the fox ate the dog'\n",
    "]"
   ]
  },
  {
   "cell_type": "code",
   "execution_count": 31,
   "metadata": {},
   "outputs": [
    {
     "name": "stdout",
     "output_type": "stream",
     "text": [
      "['ate', 'brown', 'dog', 'fox', 'jumped', 'over', 'quick', 'the']\n"
     ]
    }
   ],
   "source": [
    "\n",
    "X = vectorizer.fit_transform(corpus)\n",
    "\n",
    "print(vectorizer.get_feature_names())\n"
   ]
  },
  {
   "cell_type": "code",
   "execution_count": 33,
   "metadata": {},
   "outputs": [
    {
     "name": "stdout",
     "output_type": "stream",
     "text": [
      "[[0 2 1 1 1 1 0 2]\n",
      " [0 1 0 1 0 0 1 1]\n",
      " [0 2 1 0 0 0 0 1]\n",
      " [1 0 1 1 0 0 0 2]]\n"
     ]
    }
   ],
   "source": [
    "print(X.toarray())"
   ]
  },
  {
   "cell_type": "code",
   "execution_count": null,
   "metadata": {
    "collapsed": true
   },
   "outputs": [],
   "source": []
  }
 ],
 "metadata": {
  "kernelspec": {
   "display_name": "Python 3",
   "language": "python",
   "name": "python3"
  },
  "language_info": {
   "codemirror_mode": {
    "name": "ipython",
    "version": 3
   },
   "file_extension": ".py",
   "mimetype": "text/x-python",
   "name": "python",
   "nbconvert_exporter": "python",
   "pygments_lexer": "ipython3",
   "version": "3.6.1"
  }
 },
 "nbformat": 4,
 "nbformat_minor": 2
}
